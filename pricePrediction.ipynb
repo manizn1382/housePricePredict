{
 "cells": [
  {
   "cell_type": "code",
   "execution_count": 1,
   "metadata": {},
   "outputs": [],
   "source": [
    "import pandas as pd \n",
    "from sklearn.ensemble import GradientBoostingRegressor\n",
    "from sklearn.metrics import r2_score\n",
    "from sklearn.preprocessing import MaxAbsScaler,LabelEncoder\n",
    "from sklearn.metrics import mean_squared_error\n",
    "from sklearn.model_selection import train_test_split\n",
    "from math import sqrt"
   ]
  },
  {
   "cell_type": "code",
   "execution_count": 2,
   "metadata": {},
   "outputs": [],
   "source": [
    "train=pd.read_csv('train.csv')\n",
    "test=pd.read_csv('test.csv')"
   ]
  },
  {
   "cell_type": "code",
   "execution_count": 3,
   "metadata": {},
   "outputs": [
    {
     "data": {
      "text/plain": [
       "(1459, 80)"
      ]
     },
     "execution_count": 3,
     "metadata": {},
     "output_type": "execute_result"
    }
   ],
   "source": [
    "test.shape"
   ]
  },
  {
   "cell_type": "markdown",
   "metadata": {},
   "source": [
    "## preprocess"
   ]
  },
  {
   "cell_type": "code",
   "execution_count": 4,
   "metadata": {},
   "outputs": [
    {
     "name": "stdout",
     "output_type": "stream",
     "text": [
      "LotFrontage 259\n",
      "Alley 1369\n",
      "MasVnrType 8\n",
      "MasVnrArea 8\n",
      "BsmtQual 37\n",
      "BsmtCond 37\n",
      "BsmtExposure 38\n",
      "BsmtFinType1 37\n",
      "BsmtFinType2 38\n",
      "Electrical 1\n",
      "FireplaceQu 690\n",
      "GarageType 81\n",
      "GarageYrBlt 81\n",
      "GarageFinish 81\n",
      "GarageQual 81\n",
      "GarageCond 81\n",
      "PoolQC 1453\n",
      "Fence 1179\n",
      "MiscFeature 1406\n"
     ]
    }
   ],
   "source": [
    "for c in train.columns:\n",
    "    if(train[c].isna().sum()>0):\n",
    "        print(train[c].name+\" \"+str(train[c].isna().sum()))"
   ]
  },
  {
   "cell_type": "code",
   "execution_count": 5,
   "metadata": {},
   "outputs": [],
   "source": [
    "train.drop(['PoolQC'],axis=1,inplace=True)\n",
    "test.drop(['PoolQC'],axis=1,inplace=True)"
   ]
  },
  {
   "cell_type": "code",
   "execution_count": 6,
   "metadata": {},
   "outputs": [],
   "source": [
    "\n",
    "le = LabelEncoder()\n",
    "\n",
    "train = train.apply(lambda x: x.fillna(x.mode()[0]))\n",
    "test = test.apply(lambda x:x.fillna(x.mode()[0]))\n",
    "\n",
    "non_numeric_columns = train.select_dtypes(exclude=['number']).columns\n",
    "\n",
    "for column in non_numeric_columns:\n",
    "     train[column] = le.fit_transform(train[column])\n",
    "     test[column] =  le.transform(test[column])  \n"
   ]
  },
  {
   "cell_type": "markdown",
   "metadata": {},
   "source": [
    "## decompose and normalize"
   ]
  },
  {
   "cell_type": "code",
   "execution_count": 7,
   "metadata": {},
   "outputs": [],
   "source": [
    "from sklearn.preprocessing import MinMaxScaler\n",
    "\n",
    "scaler=MaxAbsScaler()\n",
    "\n",
    "X=train.drop(columns='SalePrice')\n",
    "Y=train['SalePrice']\n",
    "\n",
    "\n",
    "xtrain,xtest,ytrain,ytest=train_test_split(X,Y,test_size=0.2)\n",
    "\n",
    "\n",
    "xtrain=scaler.fit_transform(xtrain)\n",
    "xtest=scaler.transform(xtest)\n"
   ]
  },
  {
   "cell_type": "markdown",
   "metadata": {},
   "source": [
    "## validation"
   ]
  },
  {
   "cell_type": "code",
   "execution_count": 16,
   "metadata": {},
   "outputs": [],
   "source": [
    "model=GradientBoostingRegressor(loss='squared_error',n_estimators=500,max_depth=128,min_samples_split=2,min_samples_leaf=2)"
   ]
  },
  {
   "cell_type": "code",
   "execution_count": 17,
   "metadata": {},
   "outputs": [
    {
     "name": "stdout",
     "output_type": "stream",
     "text": [
      "0.9999999999984781\n",
      "0.811807151049102\n"
     ]
    }
   ],
   "source": [
    "\n",
    "model.fit(xtrain,ytrain)\n",
    "\n",
    "predict_trainYn = model.predict(xtrain)\n",
    "predict_testYn=model.predict(xtest)\n",
    "\n",
    "r_train=r2_score(ytrain,predict_trainYn)\n",
    "r_test=r2_score(ytest,predict_testYn)\n",
    "print(r_train)\n",
    "print(r_test) \n"
   ]
  },
  {
   "cell_type": "markdown",
   "metadata": {},
   "source": [
    "## predict"
   ]
  },
  {
   "cell_type": "code",
   "execution_count": 18,
   "metadata": {},
   "outputs": [
    {
     "name": "stdout",
     "output_type": "stream",
     "text": [
      "1.0\n",
      "1.001493323771931e-05\n"
     ]
    }
   ],
   "source": [
    "\n",
    "model.fit(X,Y)\n",
    "\n",
    "predict_trainY = model.predict(X)\n",
    "predict_testY=model.predict(test)\n",
    "\n",
    "print(r2_score(Y,predict_trainY))\n",
    "print(sqrt(mean_squared_error(Y,predict_trainY)))\n",
    "\n",
    "result_dataFrame=pd.DataFrame({\n",
    "    'Id':test['Id'],\n",
    "    'SalePrice':predict_testY,\n",
    "    })\n",
    "\n",
    "result_dataFrame.to_csv('result.csv',index=False)\n",
    "\n",
    "\n"
   ]
  }
 ],
 "metadata": {
  "kernelspec": {
   "display_name": "Python 3",
   "language": "python",
   "name": "python3"
  },
  "language_info": {
   "codemirror_mode": {
    "name": "ipython",
    "version": 3
   },
   "file_extension": ".py",
   "mimetype": "text/x-python",
   "name": "python",
   "nbconvert_exporter": "python",
   "pygments_lexer": "ipython3",
   "version": "3.11.1"
  }
 },
 "nbformat": 4,
 "nbformat_minor": 2
}
